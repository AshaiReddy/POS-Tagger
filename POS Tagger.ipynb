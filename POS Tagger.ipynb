{
 "cells": [
  {
   "cell_type": "markdown",
   "metadata": {},
   "source": [
    "# HMMs and Viterbi algorithm for POS tagging\n"
   ]
  },
  {
   "cell_type": "markdown",
   "metadata": {},
   "source": [
    "## Step 1: Importing Packages"
   ]
  },
  {
   "cell_type": "code",
   "execution_count": 1,
   "metadata": {},
   "outputs": [],
   "source": [
    "#Importing libraries\n",
    "import numpy as np\n",
    "import pandas as pd\n",
    "import matplotlib.pyplot as plt\n",
    "import seaborn as sns\n",
    "import time\n",
    "import nltk\n",
    "import random\n",
    "from sklearn.model_selection import train_test_split\n",
    "from nltk.tokenize import word_tokenize\n",
    "from nltk import pos_tag"
   ]
  },
  {
   "cell_type": "markdown",
   "metadata": {},
   "source": [
    "## Step 2: Understanding Dataset"
   ]
  },
  {
   "cell_type": "code",
   "execution_count": 2,
   "metadata": {},
   "outputs": [
    {
     "name": "stderr",
     "output_type": "stream",
     "text": [
      "[nltk_data] Downloading package universal_tagset to\n",
      "[nltk_data]     /home/ashai/nltk_data...\n",
      "[nltk_data]   Package universal_tagset is already up-to-date!\n"
     ]
    }
   ],
   "source": [
    "# reading the Treebank tagged sentences\n",
    "nltk.download('universal_tagset')\n",
    "nltk_data = list(nltk.corpus.treebank.tagged_sents(tagset='universal'))"
   ]
  },
  {
   "cell_type": "code",
   "execution_count": 3,
   "metadata": {},
   "outputs": [
    {
     "data": {
      "text/plain": [
       "3914"
      ]
     },
     "execution_count": 3,
     "metadata": {},
     "output_type": "execute_result"
    }
   ],
   "source": [
    "len(nltk_data)"
   ]
  },
  {
   "cell_type": "code",
   "execution_count": 4,
   "metadata": {
    "scrolled": false
   },
   "outputs": [
    {
     "name": "stdout",
     "output_type": "stream",
     "text": [
      "[[('Pierre', 'NOUN'), ('Vinken', 'NOUN'), (',', '.'), ('61', 'NUM'), ('years', 'NOUN'), ('old', 'ADJ'), (',', '.'), ('will', 'VERB'), ('join', 'VERB'), ('the', 'DET'), ('board', 'NOUN'), ('as', 'ADP'), ('a', 'DET'), ('nonexecutive', 'ADJ'), ('director', 'NOUN'), ('Nov.', 'NOUN'), ('29', 'NUM'), ('.', '.')], [('Mr.', 'NOUN'), ('Vinken', 'NOUN'), ('is', 'VERB'), ('chairman', 'NOUN'), ('of', 'ADP'), ('Elsevier', 'NOUN'), ('N.V.', 'NOUN'), (',', '.'), ('the', 'DET'), ('Dutch', 'NOUN'), ('publishing', 'VERB'), ('group', 'NOUN'), ('.', '.')], [('Rudolph', 'NOUN'), ('Agnew', 'NOUN'), (',', '.'), ('55', 'NUM'), ('years', 'NOUN'), ('old', 'ADJ'), ('and', 'CONJ'), ('former', 'ADJ'), ('chairman', 'NOUN'), ('of', 'ADP'), ('Consolidated', 'NOUN'), ('Gold', 'NOUN'), ('Fields', 'NOUN'), ('PLC', 'NOUN'), (',', '.'), ('was', 'VERB'), ('named', 'VERB'), ('*-1', 'X'), ('a', 'DET'), ('nonexecutive', 'ADJ'), ('director', 'NOUN'), ('of', 'ADP'), ('this', 'DET'), ('British', 'ADJ'), ('industrial', 'ADJ'), ('conglomerate', 'NOUN'), ('.', '.')], [('A', 'DET'), ('form', 'NOUN'), ('of', 'ADP'), ('asbestos', 'NOUN'), ('once', 'ADV'), ('used', 'VERB'), ('*', 'X'), ('*', 'X'), ('to', 'PRT'), ('make', 'VERB'), ('Kent', 'NOUN'), ('cigarette', 'NOUN'), ('filters', 'NOUN'), ('has', 'VERB'), ('caused', 'VERB'), ('a', 'DET'), ('high', 'ADJ'), ('percentage', 'NOUN'), ('of', 'ADP'), ('cancer', 'NOUN'), ('deaths', 'NOUN'), ('among', 'ADP'), ('a', 'DET'), ('group', 'NOUN'), ('of', 'ADP'), ('workers', 'NOUN'), ('exposed', 'VERB'), ('*', 'X'), ('to', 'PRT'), ('it', 'PRON'), ('more', 'ADV'), ('than', 'ADP'), ('30', 'NUM'), ('years', 'NOUN'), ('ago', 'ADP'), (',', '.'), ('researchers', 'NOUN'), ('reported', 'VERB'), ('0', 'X'), ('*T*-1', 'X'), ('.', '.')], [('The', 'DET'), ('asbestos', 'NOUN'), ('fiber', 'NOUN'), (',', '.'), ('crocidolite', 'NOUN'), (',', '.'), ('is', 'VERB'), ('unusually', 'ADV'), ('resilient', 'ADJ'), ('once', 'ADP'), ('it', 'PRON'), ('enters', 'VERB'), ('the', 'DET'), ('lungs', 'NOUN'), (',', '.'), ('with', 'ADP'), ('even', 'ADV'), ('brief', 'ADJ'), ('exposures', 'NOUN'), ('to', 'PRT'), ('it', 'PRON'), ('causing', 'VERB'), ('symptoms', 'NOUN'), ('that', 'DET'), ('*T*-1', 'X'), ('show', 'VERB'), ('up', 'PRT'), ('decades', 'NOUN'), ('later', 'ADJ'), (',', '.'), ('researchers', 'NOUN'), ('said', 'VERB'), ('0', 'X'), ('*T*-2', 'X'), ('.', '.')]]\n"
     ]
    }
   ],
   "source": [
    "# Let's view the first few tagged sentences\n",
    "print(nltk_data[:5])"
   ]
  },
  {
   "cell_type": "markdown",
   "metadata": {},
   "source": [
    "## Step 3: Data Preparation / Cleaning\n",
    "\n",
    "- Dataset is fairly preprocessed and does not follow conventional preprocessing steps like we do for Numerical Data\n",
    "- Utility Function for Word and POS tag counting\n",
    "- Utility Functions to Calculate Emission & Transmission Probabilities\n",
    "- Probabilty Matrix of Transmission Probabilities & Heatmap"
   ]
  },
  {
   "cell_type": "code",
   "execution_count": 5,
   "metadata": {},
   "outputs": [
    {
     "name": "stdout",
     "output_type": "stream",
     "text": [
      "3718\n",
      "196\n"
     ]
    }
   ],
   "source": [
    "# Splitting into train and validation sets in the ratio of 95:5\n",
    "random.seed(1234)\n",
    "train_set, test_set = train_test_split(nltk_data,train_size=0.95, test_size=0.05, random_state=42)\n",
    "\n",
    "print(len(train_set))\n",
    "print(len(test_set))"
   ]
  },
  {
   "cell_type": "code",
   "execution_count": 6,
   "metadata": {},
   "outputs": [
    {
     "name": "stdout",
     "output_type": "stream",
     "text": [
      "95589\n",
      "5087\n"
     ]
    }
   ],
   "source": [
    "# Getting list of tagged words - train data\n",
    "train_tagged_words = [tup for sent in train_set for tup in sent]\n",
    "print(len(train_tagged_words))\n",
    "\n",
    "# Getting list of tagged words - validtion data\n",
    "test_tagged_words = [tup for sent in test_set for tup in sent]\n",
    "print(len(test_tagged_words))"
   ]
  },
  {
   "cell_type": "code",
   "execution_count": 7,
   "metadata": {},
   "outputs": [
    {
     "data": {
      "text/plain": [
       "['Bank', 'of', 'New', 'England', \"'s\", 'shares', 'are', 'traded', '*-1', 'on']"
      ]
     },
     "execution_count": 7,
     "metadata": {},
     "output_type": "execute_result"
    }
   ],
   "source": [
    "# tokens. i.e. the list of words from list of (word, tag) fom train set\n",
    "tokens = [pair[0] for pair in train_tagged_words]\n",
    "tokens[:10]"
   ]
  },
  {
   "cell_type": "code",
   "execution_count": 8,
   "metadata": {},
   "outputs": [
    {
     "name": "stdout",
     "output_type": "stream",
     "text": [
      "12109\n"
     ]
    }
   ],
   "source": [
    "# vocabulary\n",
    "V = set(tokens)\n",
    "print(len(V))"
   ]
  },
  {
   "cell_type": "code",
   "execution_count": 9,
   "metadata": {},
   "outputs": [
    {
     "data": {
      "text/plain": [
       "12"
      ]
     },
     "execution_count": 9,
     "metadata": {},
     "output_type": "execute_result"
    }
   ],
   "source": [
    "# number of tags\n",
    "T = sorted(list(set([pair[1] for pair in train_tagged_words])))\n",
    "len(T)"
   ]
  },
  {
   "cell_type": "code",
   "execution_count": 10,
   "metadata": {},
   "outputs": [
    {
     "name": "stdout",
     "output_type": "stream",
     "text": [
      "['.', 'ADJ', 'ADP', 'ADV', 'CONJ', 'DET', 'NOUN', 'NUM', 'PRON', 'PRT', 'VERB', 'X']\n"
     ]
    }
   ],
   "source": [
    "# Let us view the tags\n",
    "print(T)"
   ]
  },
  {
   "cell_type": "markdown",
   "metadata": {},
   "source": [
    "__The tagset consists of the following 12 coarse tags__\n",
    "\n",
    "    . - punctuation\n",
    "    ADJ - adjectives\n",
    "    ADP - adpositions\n",
    "    ADV - adverbs\n",
    "    CONJ - conjunctions\n",
    "    DET - determiners\n",
    "    NOUN - nouns\n",
    "    NUM - cardinal numbers\n",
    "    PRON - pronouns\n",
    "    PRT - particles or other function words\n",
    "    VERB - verbs    \n",
    "    X - other: foreign words, typos, abbreviations"
   ]
  },
  {
   "attachments": {
    "image.png": {
     "image/png": "[encoded data removed]"
    }
   },
   "cell_type": "markdown",
   "metadata": {},
   "source": [
    "### POS Tagging Algorithm using Hidden Markov Model\n",
    "__Viterbi algorithm__ -> For each word, we compute the P(tag|word) for each tag in the tag set and then assign the tag having the max P(tag/word). \n",
    "\n",
    "P(tag|word)  = (emission probability of the word-tag pair) * (transition probability from the previous tag).<br>\n",
    "i.e. P(t|w)  = P(w|t) * P(t2|t1)\n",
    "\n",
    "\n",
    "![image.png](attachment:image.png)\n",
    "\n",
    "\n",
    "1. __Emission probability__ of a word 'w' for tag 't':\n",
    "    - __P(w|t)__= (No.of times w has been tagged as t)/(No.of times t appears)\n",
    "    \n",
    "2. __Transition probability__ of tag t1 followed by tag t2:\n",
    "    - __P(t2|t1)__= (No.of times t1 is followed by tag t2)/(No.of times t1 appears)\n",
    "    \n",
    "So, Let us calculate the emission and transition probabilities.\n",
    "\n"
   ]
  },
  {
   "cell_type": "markdown",
   "metadata": {},
   "source": [
    "### Emission Probabilities"
   ]
  },
  {
   "cell_type": "code",
   "execution_count": 11,
   "metadata": {
    "scrolled": true
   },
   "outputs": [],
   "source": [
    "# computing P(w/t) and storing in T x V matrix\n",
    "t = len(T)\n",
    "v = len(V)\n",
    "w_given_t = np.zeros((t, v))"
   ]
  },
  {
   "cell_type": "code",
   "execution_count": 12,
   "metadata": {},
   "outputs": [],
   "source": [
    "# compute Emission Probability- P(word given tag)\n",
    "def word_given_tag(word, tag, train_bag = train_tagged_words):\n",
    "    \n",
    "    # Calculate No.of times tag t appears\n",
    "    tag_list = [pair for pair in train_bag if pair[1]==tag]\n",
    "    count_tag = len(tag_list)\n",
    "    \n",
    "    # Calculate No.of times word w has been tagged as tag t\n",
    "    w_given_tag_list = [pair[0] for pair in tag_list if pair[0]==word]\n",
    "    count_w_given_tag = len(w_given_tag_list)\n",
    "    \n",
    "    return (count_w_given_tag, count_tag)"
   ]
  },
  {
   "cell_type": "code",
   "execution_count": 13,
   "metadata": {},
   "outputs": [
    {
     "name": "stdout",
     "output_type": "stream",
     "text": [
      "\n",
      " October\n",
      "(53, 27423)\n",
      "(0, 12885)\n",
      "(0, 6077)\n",
      "\n",
      " reported\n",
      "(0, 27423)\n",
      "(34, 12885)\n",
      "(0, 6077)\n"
     ]
    }
   ],
   "source": [
    "#Example\n",
    "\n",
    "print(\"\\n\", \"October\")\n",
    "print(word_given_tag('October','NOUN'))\n",
    "print(word_given_tag('October','VERB'))\n",
    "print(word_given_tag('October','ADJ'))\n",
    "\n",
    "print(\"\\n\", \"reported\")\n",
    "print(word_given_tag('reported','NOUN'))\n",
    "print(word_given_tag('reported','VERB'))\n",
    "print(word_given_tag('reported','ADJ'))"
   ]
  },
  {
   "cell_type": "markdown",
   "metadata": {},
   "source": [
    "### Transition Probabilities"
   ]
  },
  {
   "cell_type": "code",
   "execution_count": 14,
   "metadata": {},
   "outputs": [],
   "source": [
    "# Compute Transition Probability - tag2(t2) given tag1 (t1)\n",
    "\n",
    "def t2_given_t1(t2, t1, train_bag = train_tagged_words):\n",
    "    \n",
    "    # Calculate No.of times tag t1 appears\n",
    "    tags = [pair[1] for pair in train_bag]\n",
    "    count_t1 = len([t for t in tags if t==t1])\n",
    "    \n",
    "    # Calculate No.of times t1 is followed by tag t2\n",
    "    count_t2_t1 = 0\n",
    "    for index in range(len(tags)-1):\n",
    "        if tags[index]==t1 and tags[index+1] == t2:\n",
    "            count_t2_t1 += 1\n",
    "    return (count_t2_t1, count_t1)"
   ]
  },
  {
   "cell_type": "code",
   "execution_count": 15,
   "metadata": {},
   "outputs": [
    {
     "name": "stdout",
     "output_type": "stream",
     "text": [
      "(4234, 6077)\n",
      "(5302, 8284)\n",
      "(1429, 12885)\n",
      "(4058, 27423)\n"
     ]
    }
   ],
   "source": [
    "# examples\n",
    "print(t2_given_t1('NOUN', 'ADJ'))\n",
    "print(t2_given_t1('NOUN', 'DET'))\n",
    "print(t2_given_t1('NOUN', 'VERB'))\n",
    "print(t2_given_t1('VERB', 'NOUN'))"
   ]
  },
  {
   "cell_type": "code",
   "execution_count": 16,
   "metadata": {},
   "outputs": [
    {
     "name": "stdout",
     "output_type": "stream",
     "text": [
      "(1929, 11118)\n",
      "(2481, 11118)\n",
      "(984, 11118)\n"
     ]
    }
   ],
   "source": [
    "# Please note P(tag|start) is same as P(tag|'.')\n",
    "print(t2_given_t1('DET', '.'))\n",
    "print(t2_given_t1('NOUN', '.'))\n",
    "print(t2_given_t1('VERB', '.'))"
   ]
  },
  {
   "cell_type": "code",
   "execution_count": 17,
   "metadata": {
    "scrolled": true
   },
   "outputs": [],
   "source": [
    "# creating t x t transition matrix of tags. Each column is t2, each row is t1, thus M(i, j) represents P(tj given ti)\n",
    "tags_matrix = np.zeros((len(T), len(T)), dtype='float32')\n",
    "for i, t1 in enumerate(list(T)):\n",
    "    for j, t2 in enumerate(list(T)): \n",
    "        tags_matrix[i, j] = t2_given_t1(t2, t1)[0]/t2_given_t1(t2, t1)[1]"
   ]
  },
  {
   "cell_type": "code",
   "execution_count": 18,
   "metadata": {},
   "outputs": [],
   "source": [
    "# convert the matrix to a df for better readability\n",
    "tags_df = pd.DataFrame(tags_matrix, columns = list(T), index=list(T))"
   ]
  },
  {
   "cell_type": "code",
   "execution_count": 19,
   "metadata": {
    "scrolled": true
   },
   "outputs": [
    {
     "data": {
      "text/html": [
       "<div>\n",
       "<style scoped>\n",
       "    .dataframe tbody tr th:only-of-type {\n",
       "        vertical-align: middle;\n",
       "    }\n",
       "\n",
       "    .dataframe tbody tr th {\n",
       "        vertical-align: top;\n",
       "    }\n",
       "\n",
       "    .dataframe thead th {\n",
       "        text-align: right;\n",
       "    }\n",
       "</style>\n",
       "<table border=\"1\" class=\"dataframe\">\n",
       "  <thead>\n",
       "    <tr style=\"text-align: right;\">\n",
       "      <th></th>\n",
       "      <th>.</th>\n",
       "      <th>ADJ</th>\n",
       "      <th>ADP</th>\n",
       "      <th>ADV</th>\n",
       "      <th>CONJ</th>\n",
       "      <th>DET</th>\n",
       "      <th>NOUN</th>\n",
       "      <th>NUM</th>\n",
       "      <th>PRON</th>\n",
       "      <th>PRT</th>\n",
       "      <th>VERB</th>\n",
       "      <th>X</th>\n",
       "    </tr>\n",
       "  </thead>\n",
       "  <tbody>\n",
       "    <tr>\n",
       "      <th>.</th>\n",
       "      <td>0.093812</td>\n",
       "      <td>0.044972</td>\n",
       "      <td>0.091114</td>\n",
       "      <td>0.052078</td>\n",
       "      <td>0.057924</td>\n",
       "      <td>0.173502</td>\n",
       "      <td>0.223152</td>\n",
       "      <td>0.080500</td>\n",
       "      <td>0.065389</td>\n",
       "      <td>0.002339</td>\n",
       "      <td>0.088505</td>\n",
       "      <td>0.026623</td>\n",
       "    </tr>\n",
       "    <tr>\n",
       "      <th>ADJ</th>\n",
       "      <td>0.065328</td>\n",
       "      <td>0.066645</td>\n",
       "      <td>0.078986</td>\n",
       "      <td>0.004608</td>\n",
       "      <td>0.016949</td>\n",
       "      <td>0.005101</td>\n",
       "      <td>0.696725</td>\n",
       "      <td>0.020405</td>\n",
       "      <td>0.000658</td>\n",
       "      <td>0.010861</td>\n",
       "      <td>0.012342</td>\n",
       "      <td>0.021392</td>\n",
       "    </tr>\n",
       "    <tr>\n",
       "      <th>ADP</th>\n",
       "      <td>0.039486</td>\n",
       "      <td>0.105297</td>\n",
       "      <td>0.017228</td>\n",
       "      <td>0.013162</td>\n",
       "      <td>0.000856</td>\n",
       "      <td>0.326378</td>\n",
       "      <td>0.321776</td>\n",
       "      <td>0.062921</td>\n",
       "      <td>0.069128</td>\n",
       "      <td>0.001498</td>\n",
       "      <td>0.008240</td>\n",
       "      <td>0.034029</td>\n",
       "    </tr>\n",
       "    <tr>\n",
       "      <th>ADV</th>\n",
       "      <td>0.136877</td>\n",
       "      <td>0.130233</td>\n",
       "      <td>0.119601</td>\n",
       "      <td>0.081063</td>\n",
       "      <td>0.006312</td>\n",
       "      <td>0.067110</td>\n",
       "      <td>0.030897</td>\n",
       "      <td>0.030565</td>\n",
       "      <td>0.015615</td>\n",
       "      <td>0.013621</td>\n",
       "      <td>0.344518</td>\n",
       "      <td>0.023588</td>\n",
       "    </tr>\n",
       "    <tr>\n",
       "      <th>CONJ</th>\n",
       "      <td>0.034256</td>\n",
       "      <td>0.116847</td>\n",
       "      <td>0.054435</td>\n",
       "      <td>0.055842</td>\n",
       "      <td>0.000469</td>\n",
       "      <td>0.121539</td>\n",
       "      <td>0.349132</td>\n",
       "      <td>0.042234</td>\n",
       "      <td>0.058658</td>\n",
       "      <td>0.004693</td>\n",
       "      <td>0.153918</td>\n",
       "      <td>0.007977</td>\n",
       "    </tr>\n",
       "    <tr>\n",
       "      <th>DET</th>\n",
       "      <td>0.017986</td>\n",
       "      <td>0.204973</td>\n",
       "      <td>0.009054</td>\n",
       "      <td>0.012313</td>\n",
       "      <td>0.000483</td>\n",
       "      <td>0.005311</td>\n",
       "      <td>0.640029</td>\n",
       "      <td>0.021970</td>\n",
       "      <td>0.003742</td>\n",
       "      <td>0.000241</td>\n",
       "      <td>0.038387</td>\n",
       "      <td>0.045509</td>\n",
       "    </tr>\n",
       "    <tr>\n",
       "      <th>NOUN</th>\n",
       "      <td>0.239179</td>\n",
       "      <td>0.012289</td>\n",
       "      <td>0.176275</td>\n",
       "      <td>0.016884</td>\n",
       "      <td>0.041936</td>\n",
       "      <td>0.013310</td>\n",
       "      <td>0.264632</td>\n",
       "      <td>0.009627</td>\n",
       "      <td>0.004923</td>\n",
       "      <td>0.043832</td>\n",
       "      <td>0.147978</td>\n",
       "      <td>0.029136</td>\n",
       "    </tr>\n",
       "    <tr>\n",
       "      <th>NUM</th>\n",
       "      <td>0.118347</td>\n",
       "      <td>0.034196</td>\n",
       "      <td>0.034790</td>\n",
       "      <td>0.002974</td>\n",
       "      <td>0.013381</td>\n",
       "      <td>0.003271</td>\n",
       "      <td>0.355338</td>\n",
       "      <td>0.184062</td>\n",
       "      <td>0.001487</td>\n",
       "      <td>0.027951</td>\n",
       "      <td>0.017544</td>\n",
       "      <td>0.206661</td>\n",
       "    </tr>\n",
       "    <tr>\n",
       "      <th>PRON</th>\n",
       "      <td>0.041253</td>\n",
       "      <td>0.074866</td>\n",
       "      <td>0.022918</td>\n",
       "      <td>0.033995</td>\n",
       "      <td>0.004966</td>\n",
       "      <td>0.009549</td>\n",
       "      <td>0.211230</td>\n",
       "      <td>0.007257</td>\n",
       "      <td>0.008021</td>\n",
       "      <td>0.012223</td>\n",
       "      <td>0.480901</td>\n",
       "      <td>0.092819</td>\n",
       "    </tr>\n",
       "    <tr>\n",
       "      <th>PRT</th>\n",
       "      <td>0.041517</td>\n",
       "      <td>0.086303</td>\n",
       "      <td>0.021576</td>\n",
       "      <td>0.010134</td>\n",
       "      <td>0.002288</td>\n",
       "      <td>0.100360</td>\n",
       "      <td>0.242563</td>\n",
       "      <td>0.058516</td>\n",
       "      <td>0.018960</td>\n",
       "      <td>0.001635</td>\n",
       "      <td>0.402746</td>\n",
       "      <td>0.013403</td>\n",
       "    </tr>\n",
       "    <tr>\n",
       "      <th>VERB</th>\n",
       "      <td>0.035312</td>\n",
       "      <td>0.064649</td>\n",
       "      <td>0.090493</td>\n",
       "      <td>0.082577</td>\n",
       "      <td>0.005588</td>\n",
       "      <td>0.133101</td>\n",
       "      <td>0.110904</td>\n",
       "      <td>0.022817</td>\n",
       "      <td>0.036244</td>\n",
       "      <td>0.031121</td>\n",
       "      <td>0.169189</td>\n",
       "      <td>0.218005</td>\n",
       "    </tr>\n",
       "    <tr>\n",
       "      <th>X</th>\n",
       "      <td>0.163799</td>\n",
       "      <td>0.016571</td>\n",
       "      <td>0.142925</td>\n",
       "      <td>0.025175</td>\n",
       "      <td>0.010357</td>\n",
       "      <td>0.055131</td>\n",
       "      <td>0.061345</td>\n",
       "      <td>0.002709</td>\n",
       "      <td>0.056087</td>\n",
       "      <td>0.185787</td>\n",
       "      <td>0.203633</td>\n",
       "      <td>0.076482</td>\n",
       "    </tr>\n",
       "  </tbody>\n",
       "</table>\n",
       "</div>"
      ],
      "text/plain": [
       "             .       ADJ       ADP       ADV      CONJ       DET      NOUN  \\\n",
       ".     0.093812  0.044972  0.091114  0.052078  0.057924  0.173502  0.223152   \n",
       "ADJ   0.065328  0.066645  0.078986  0.004608  0.016949  0.005101  0.696725   \n",
       "ADP   0.039486  0.105297  0.017228  0.013162  0.000856  0.326378  0.321776   \n",
       "ADV   0.136877  0.130233  0.119601  0.081063  0.006312  0.067110  0.030897   \n",
       "CONJ  0.034256  0.116847  0.054435  0.055842  0.000469  0.121539  0.349132   \n",
       "DET   0.017986  0.204973  0.009054  0.012313  0.000483  0.005311  0.640029   \n",
       "NOUN  0.239179  0.012289  0.176275  0.016884  0.041936  0.013310  0.264632   \n",
       "NUM   0.118347  0.034196  0.034790  0.002974  0.013381  0.003271  0.355338   \n",
       "PRON  0.041253  0.074866  0.022918  0.033995  0.004966  0.009549  0.211230   \n",
       "PRT   0.041517  0.086303  0.021576  0.010134  0.002288  0.100360  0.242563   \n",
       "VERB  0.035312  0.064649  0.090493  0.082577  0.005588  0.133101  0.110904   \n",
       "X     0.163799  0.016571  0.142925  0.025175  0.010357  0.055131  0.061345   \n",
       "\n",
       "           NUM      PRON       PRT      VERB         X  \n",
       ".     0.080500  0.065389  0.002339  0.088505  0.026623  \n",
       "ADJ   0.020405  0.000658  0.010861  0.012342  0.021392  \n",
       "ADP   0.062921  0.069128  0.001498  0.008240  0.034029  \n",
       "ADV   0.030565  0.015615  0.013621  0.344518  0.023588  \n",
       "CONJ  0.042234  0.058658  0.004693  0.153918  0.007977  \n",
       "DET   0.021970  0.003742  0.000241  0.038387  0.045509  \n",
       "NOUN  0.009627  0.004923  0.043832  0.147978  0.029136  \n",
       "NUM   0.184062  0.001487  0.027951  0.017544  0.206661  \n",
       "PRON  0.007257  0.008021  0.012223  0.480901  0.092819  \n",
       "PRT   0.058516  0.018960  0.001635  0.402746  0.013403  \n",
       "VERB  0.022817  0.036244  0.031121  0.169189  0.218005  \n",
       "X     0.002709  0.056087  0.185787  0.203633  0.076482  "
      ]
     },
     "execution_count": 19,
     "metadata": {},
     "output_type": "execute_result"
    }
   ],
   "source": [
    "# Each column is t2, each row is t1\n",
    "tags_df"
   ]
  },
  {
   "cell_type": "code",
   "execution_count": 20,
   "metadata": {},
   "outputs": [
    {
     "data": {
      "text/plain": [
       ".       0.093812\n",
       "ADJ     0.044972\n",
       "ADP     0.091114\n",
       "ADV     0.052078\n",
       "CONJ    0.057924\n",
       "DET     0.173502\n",
       "NOUN    0.223152\n",
       "NUM     0.080500\n",
       "PRON    0.065389\n",
       "PRT     0.002339\n",
       "VERB    0.088505\n",
       "X       0.026623\n",
       "Name: ., dtype: float32"
      ]
     },
     "execution_count": 20,
     "metadata": {},
     "output_type": "execute_result"
    }
   ],
   "source": [
    "tags_df.loc['.', :]"
   ]
  },
  {
   "cell_type": "code",
   "execution_count": 21,
   "metadata": {
    "scrolled": true
   },
   "outputs": [
    {
     "data": {
      "image/png": "[encoded data removed]",
      "text/plain": [
       "<Figure size 1296x360 with 2 Axes>"
      ]
     },
     "metadata": {
      "needs_background": "light"
     },
     "output_type": "display_data"
    }
   ],
   "source": [
    "# heatmap of tags matrix\n",
    "plt.figure(figsize=(18, 5))\n",
    "sns.heatmap(tags_df, annot=True,cmap=\"rocket_r\")\n",
    "plt.show()"
   ]
  },
  {
   "cell_type": "code",
   "execution_count": 22,
   "metadata": {},
   "outputs": [
    {
     "data": {
      "image/png": "[encoded data removed]",
      "text/plain": [
       "<Figure size 1296x360 with 2 Axes>"
      ]
     },
     "metadata": {
      "needs_background": "light"
     },
     "output_type": "display_data"
    }
   ],
   "source": [
    "# filter the df to get P(t2, t1) > 0.5\n",
    "tags_frequent = tags_df[tags_df>0.5]\n",
    "plt.figure(figsize=(18,5))\n",
    "sns.heatmap(tags_frequent,annot = True,cmap=\"rocket_r\")\n",
    "plt.show()"
   ]
  },
  {
   "cell_type": "markdown",
   "metadata": {},
   "source": [
    "#### From above heatmap, we can observe that most of the transition probabilities are between Noun and other parts of speech such as Adjective and Determinant."
   ]
  },
  {
   "cell_type": "markdown",
   "metadata": {},
   "source": [
    "## Step 4: Model Building\n",
    "\n",
    "\n",
    "1. Vanilla Viterbi Algorithm.\n",
    "2. Viterbi Modification-Approach I:\n",
    "    - Transition probability is considered in case of unknown words since emission probability is zero.\n",
    "3. Viterbi Modification-Approach II:\n",
    "    - Trigram tagger backed off to a rule based tagger in case of an unknown word.\n",
    "4. Checked the tagging accuracies on the sample test sentences.\n",
    "5. Listed down cases which were incorrectly tagged by original POS tagger and got corrected by modified approaches. "
   ]
  },
  {
   "cell_type": "markdown",
   "metadata": {},
   "source": [
    "### Build the Vanilla Viterbi based POS tagger\n",
    "\n",
    "- The Viterbi algorithm takes a greedy heuristic. \n",
    "- It starts from the start of a sentence and at every step maximizes the likelihood of this tag sequence that is likely to be assigned to this sentence so far."
   ]
  },
  {
   "cell_type": "code",
   "execution_count": 23,
   "metadata": {},
   "outputs": [],
   "source": [
    "# Viterbi Heuristic\n",
    "def Viterbi(words, train_bag = train_tagged_words):\n",
    "    state = []\n",
    "    \n",
    "    # Take the list of unique tags present in the corpus\n",
    "    T = sorted(list(set([pair[1] for pair in train_bag])))\n",
    "        \n",
    "    for key, word in enumerate(words):\n",
    "        #initialise list of probability column for a given observation\n",
    "        p = []\n",
    "        \n",
    "        for tag in T:\n",
    "            if key == 0: #first word has key=0\n",
    "                transition_p = tags_df.loc['.', tag]                 \n",
    "            else:\n",
    "                transition_p = tags_df.loc[state[-1], tag]\n",
    "                \n",
    "            # compute emission and state probabilities\n",
    "            emission_p = word_given_tag(words[key], tag)[0]/word_given_tag(words[key], tag)[1]\n",
    "            state_probability = emission_p * transition_p    \n",
    "            p.append(state_probability)\n",
    "            \n",
    "        pmax = max(p)\n",
    "        # getting state for which probability is maximum\n",
    "        state_max = T[p.index(pmax)]\n",
    "        state.append(state_max)\n",
    "    return list(zip(words, state))"
   ]
  },
  {
   "cell_type": "markdown",
   "metadata": {},
   "source": [
    "#### Evaluating on Validation/Test Set"
   ]
  },
  {
   "cell_type": "code",
   "execution_count": 24,
   "metadata": {},
   "outputs": [],
   "source": [
    "# Let's test our Viterbi algorithm on the validation dataset which is 5% of the entire dataset\n",
    "\n",
    "random.seed(1234)\n",
    "# list of tagged words\n",
    "test_run_base = [tup for sent in test_set for tup in sent]\n",
    "\n",
    "# take the list of words alone without the tags\n",
    "test_tagged_words = [tup[0] for sent in test_set for tup in sent]"
   ]
  },
  {
   "cell_type": "code",
   "execution_count": 25,
   "metadata": {},
   "outputs": [],
   "source": [
    "# tagging the test sentences\n",
    "start = time.time()\n",
    "tagged_seq = Viterbi(test_tagged_words)\n",
    "end = time.time()\n",
    "difference = end-start"
   ]
  },
  {
   "cell_type": "code",
   "execution_count": 26,
   "metadata": {},
   "outputs": [
    {
     "name": "stdout",
     "output_type": "stream",
     "text": [
      "Time taken in seconds:  805.6377885341644\n"
     ]
    }
   ],
   "source": [
    "# Below code takes around 11 mins to execute\n",
    "print(\"Time taken in seconds: \", difference)"
   ]
  },
  {
   "cell_type": "code",
   "execution_count": 27,
   "metadata": {},
   "outputs": [],
   "source": [
    "# accuracy\n",
    "check = [i for i, j in zip(tagged_seq, test_run_base) if i == j] "
   ]
  },
  {
   "cell_type": "code",
   "execution_count": 28,
   "metadata": {},
   "outputs": [],
   "source": [
    "accuracy = len(check)/len(tagged_seq)"
   ]
  },
  {
   "cell_type": "code",
   "execution_count": 29,
   "metadata": {},
   "outputs": [
    {
     "data": {
      "text/plain": [
       "0.9138981718104974"
      ]
     },
     "execution_count": 29,
     "metadata": {},
     "output_type": "execute_result"
    }
   ],
   "source": [
    "accuracy"
   ]
  },
  {
   "cell_type": "code",
   "execution_count": 30,
   "metadata": {},
   "outputs": [],
   "source": [
    "incorrect_tagged_cases = [j for i, j in enumerate(zip(tagged_seq, test_run_base)) if j[0]!=j[1]]"
   ]
  },
  {
   "cell_type": "code",
   "execution_count": 31,
   "metadata": {},
   "outputs": [
    {
     "data": {
      "text/plain": [
       "[(('trade', 'VERB'), ('trade', 'NOUN')),\n",
       " (('Overseas', '.'), ('Overseas', 'NOUN')),\n",
       " (('Private', 'ADJ'), ('Private', 'NOUN')),\n",
       " (('pre-1917', '.'), ('pre-1917', 'ADJ')),\n",
       " (('Unemployment', '.'), ('Unemployment', 'NOUN'))]"
      ]
     },
     "execution_count": 31,
     "metadata": {},
     "output_type": "execute_result"
    }
   ],
   "source": [
    "incorrect_tagged_cases[:5]"
   ]
  },
  {
   "cell_type": "markdown",
   "metadata": {},
   "source": [
    "The incorrect tagged cases can be attributed to the fact that when the algorithm hits an unknown word (i.e. not present in the training set hence emission probability is 0), it naively assigns the first tag in the list of tags that we have created."
   ]
  },
  {
   "cell_type": "markdown",
   "metadata": {},
   "source": [
    "### Solve the problem of unknown words\n",
    "### Viterbi Modification-Technique I\n",
    "#### Use transition probability of tags when emission probability is zero (in case of unknown words)\n",
    "\n",
    "If a word is not present in the training vocabulary i.e. unknown word, then its emission probability will be 0 and hence The state probability will also be zero. Therefore in cases where the algorithm encounters a word which it has not see previously, we can leave out the emission probability and consider only the transition probability.\n",
    "\n",
    "The vanilla viterbi algorithm can be modified as given below as part of Approach I:\n",
    "\n",
    "__If word is unknown then,<br>\n",
    "consider only the transition prob (since, emission probability will be 0)<br>\n",
    "Else<br>\n",
    "consider both the emission and transition probabilities as state probability.__"
   ]
  },
  {
   "cell_type": "code",
   "execution_count": 32,
   "metadata": {},
   "outputs": [],
   "source": [
    "# Modified Viterbi Heuristic- Approach I\n",
    "def Viterbi_approach1(words, train_bag = train_tagged_words):\n",
    "    state = []\n",
    "    \n",
    "    # Take the list of unique tags present in the corpus\n",
    "    T = sorted(list(set([pair[1] for pair in train_bag])))\n",
    "    V = [i[0] for i in train_bag]\n",
    "    \n",
    "    for key, word in enumerate(words):\n",
    "        #initialise list of probability column for a given observation\n",
    "        p = [] \n",
    "        \n",
    "        for tag in T:\n",
    "            if key == 0: #first word has key=0\n",
    "                transition_p = tags_df.loc['.', tag]\n",
    "            else:\n",
    "                transition_p = tags_df.loc[state[-1], tag]\n",
    "                \n",
    "            # compute emission and state probabilities\n",
    "            emission_p = word_given_tag(words[key], tag)[0]/word_given_tag(words[key], tag)[1]\n",
    "            \n",
    "            # modification to the original vanilla viterbi algorithm. \n",
    "            # Vocab contains the list of unique words in training dataset\n",
    "            if word not in V: \n",
    "                state_probability = transition_p\n",
    "            else:\n",
    "                state_probability = emission_p * transition_p\n",
    "                \n",
    "            p.append(state_probability)\n",
    "            \n",
    "        pmax = max(p)\n",
    "        # getting state for which probability is maximum\n",
    "        state_max = T[p.index(pmax)] \n",
    "        state.append(state_max)\n",
    "    return list(zip(words, state))"
   ]
  },
  {
   "cell_type": "code",
   "execution_count": 33,
   "metadata": {},
   "outputs": [],
   "source": [
    "# tagging the test sentences\n",
    "start = time.time()\n",
    "transition_tagged_seq = Viterbi_approach1(test_tagged_words)\n",
    "end = time.time()\n",
    "difference = end-start"
   ]
  },
  {
   "cell_type": "code",
   "execution_count": 34,
   "metadata": {},
   "outputs": [
    {
     "name": "stdout",
     "output_type": "stream",
     "text": [
      "Time taken in seconds:  745.3578000068665\n"
     ]
    }
   ],
   "source": [
    "# Below code takes around 11 mins to execute\n",
    "print(\"Time taken in seconds: \", difference)"
   ]
  },
  {
   "cell_type": "code",
   "execution_count": 35,
   "metadata": {},
   "outputs": [],
   "source": [
    "# accuracy\n",
    "transition_check = [i for i, j in zip(transition_tagged_seq, test_run_base) if i == j] "
   ]
  },
  {
   "cell_type": "code",
   "execution_count": 36,
   "metadata": {},
   "outputs": [],
   "source": [
    "transition_accuracy = len(transition_check)/len(transition_tagged_seq)"
   ]
  },
  {
   "cell_type": "code",
   "execution_count": 37,
   "metadata": {},
   "outputs": [
    {
     "data": {
      "text/plain": [
       "0.9388637703951248"
      ]
     },
     "execution_count": 37,
     "metadata": {},
     "output_type": "execute_result"
    }
   ],
   "source": [
    "transition_accuracy"
   ]
  },
  {
   "cell_type": "code",
   "execution_count": 38,
   "metadata": {},
   "outputs": [],
   "source": [
    "transition_incorrect_tagged_cases = [j for i, j in enumerate(zip(transition_tagged_seq, test_run_base)) if j[0]!=j[1]]"
   ]
  },
  {
   "cell_type": "code",
   "execution_count": 39,
   "metadata": {},
   "outputs": [
    {
     "data": {
      "text/plain": [
       "[(('trade', 'VERB'), ('trade', 'NOUN')),\n",
       " (('Private', 'ADJ'), ('Private', 'NOUN')),\n",
       " (('pre-1917', 'X'), ('pre-1917', 'ADJ')),\n",
       " (('purchasing', 'NOUN'), ('purchasing', 'VERB')),\n",
       " (('reasonably', 'NOUN'), ('reasonably', 'ADV'))]"
      ]
     },
     "execution_count": 39,
     "metadata": {},
     "output_type": "execute_result"
    }
   ],
   "source": [
    "transition_incorrect_tagged_cases[:5]"
   ]
  },
  {
   "cell_type": "markdown",
   "metadata": {},
   "source": [
    "We see the modified viterbi algorithm performs better than the original vanilla viterbi algorithm. The modified viterbi achieves an accuracy of approx. 93.88% compared to 91.38% of the vanilla viterbi algorithm.\n",
    "\n",
    "Still there is a loss of approx. 6.12%.\n",
    "\n",
    "Compared to the vanilla viterbi on the validation dataset, there is a slight improvement in modified viterbi-approach I.\n",
    "We can see that the word 'copied' which was incorrect in vanilla viterbi has been correctly identified as 'VERB' by modified viterbi Approach I.\n",
    "\n",
    "| Incorrect Tag-Original POS Tagger | Corrected Tag-Modified Approach I |\n",
    "| :--- | --- |\n",
    "| ('Overseas', '.') | ('Overseas', 'NOUN') |\n",
    "| ('Unemployment', '.') | ('Unemployment', 'NOUN') |\n",
    "| ('paycheck', '.') | ('paycheck', 'NOUN') |\n",
    "| ('Funded', '.') | ('Funded', 'VERB') |\n",
    "| ('existed', '.') | ('existed', 'VERB') |\n",
    " \n",
    "Now lets see if we can improve further using 2nd Approach."
   ]
  },
  {
   "cell_type": "markdown",
   "metadata": {},
   "source": [
    "### Lexicon and Rule-Based Models for POS Tagging"
   ]
  },
  {
   "cell_type": "markdown",
   "metadata": {},
   "source": [
    "#### Unigram Tagger"
   ]
  },
  {
   "cell_type": "code",
   "execution_count": 40,
   "metadata": {},
   "outputs": [
    {
     "data": {
      "text/plain": [
       "0.911735797129939"
      ]
     },
     "execution_count": 40,
     "metadata": {},
     "output_type": "execute_result"
    }
   ],
   "source": [
    "# Lexicon (or unigram tagger)\n",
    "unigram_tagger = nltk.UnigramTagger(train_set)\n",
    "unigram_tagger.evaluate(test_set)"
   ]
  },
  {
   "cell_type": "markdown",
   "metadata": {},
   "source": [
    "####  Let us combine the unigram tagger with a rule based regex tagger."
   ]
  },
  {
   "cell_type": "code",
   "execution_count": 41,
   "metadata": {},
   "outputs": [],
   "source": [
    "# patterns for tagging using a rule based tagger\n",
    "patterns = [\n",
    "    (r'.*\\'s$', 'NOUN'),                     # possessive nouns\n",
    "    (r'.*s$', 'NOUN'),                       # plural nouns\n",
    "    (r'^[aA-zZ].*[0-9]+','NOUN'),            \n",
    "    (r'.*ness$', 'NOUN'),                    # words ending with 'ness' such as 'sluggishness' \n",
    "    (r'.*', 'NOUN'), \n",
    "    (r'^([0-9]|[aA-zZ])+\\-[aA-zZ]*$','ADJ'),     \n",
    "    (r'[aA-zZ]+(ed|ing|es)$', 'VERB'),       # words ending with 'ed' or 'ing' or 'es'    \n",
    "    (r'.*ly$', 'ADV'),                       # words ending with 'ly'    \n",
    "    (r'^[0-9]+(.[0-9]+)?$', 'NUM'),          # cardinal numbers such as 61, 1956, 9.8, 8.45, 352.7        \n",
    "    (r'(The|the|A|a|An|an)$', 'DET')\n",
    "    ]"
   ]
  },
  {
   "cell_type": "code",
   "execution_count": 42,
   "metadata": {},
   "outputs": [
    {
     "data": {
      "text/plain": [
       "0.9378808728130529"
      ]
     },
     "execution_count": 42,
     "metadata": {},
     "output_type": "execute_result"
    }
   ],
   "source": [
    "# Rule based tagger\n",
    "rule_based_tagger = nltk.RegexpTagger(patterns)\n",
    "\n",
    "# unigram tagger backed up by the rule-based tagger\n",
    "rule_based_unigram_tagger = nltk.UnigramTagger(train_set, backoff = rule_based_tagger)\n",
    "rule_based_unigram_tagger.evaluate(test_set)"
   ]
  },
  {
   "cell_type": "code",
   "execution_count": 43,
   "metadata": {},
   "outputs": [
    {
     "data": {
      "text/plain": [
       "0.9412227245920975"
      ]
     },
     "execution_count": 43,
     "metadata": {},
     "output_type": "execute_result"
    }
   ],
   "source": [
    "# Bigram tagger backed up by the rule-based-unigram tagger\n",
    "bigram_tagger = nltk.BigramTagger(train_set, backoff = rule_based_unigram_tagger)\n",
    "bigram_tagger.evaluate(test_set)"
   ]
  },
  {
   "cell_type": "code",
   "execution_count": 44,
   "metadata": {},
   "outputs": [
    {
     "data": {
      "text/plain": [
       "0.9404364065264399"
      ]
     },
     "execution_count": 44,
     "metadata": {},
     "output_type": "execute_result"
    }
   ],
   "source": [
    "# trigram tagger\n",
    "trigram_tagger = nltk.TrigramTagger(train_set, backoff = bigram_tagger)\n",
    "trigram_tagger.evaluate(test_set)"
   ]
  },
  {
   "cell_type": "markdown",
   "metadata": {},
   "source": [
    "### Viterbi Modification-Technique II\n",
    "\n",
    "__Approach 2__ : Rule Based engine on unknown words, by modifying the Viterbi Algorithm. If the state of the word is zero then use rule based engine to tag vocabulary to the words.\n",
    "\n",
    "We saw that the Trigram Tagger backed up by the bigram tagger gives an accuracy of about 96%. Let's now try to modify the viterbi algorithm to use this trigram tagger as a back-off. When the viterbi algorithm is not able to tag an unknown word, it uses the rule-based tagger."
   ]
  },
  {
   "cell_type": "code",
   "execution_count": 45,
   "metadata": {},
   "outputs": [],
   "source": [
    "# A trigram tagger backed off by a rule based tagger.\n",
    "\n",
    "def trigram_tagger(word, train_set = train_set):\n",
    "    \n",
    "    # specify patterns for tagging. I have identified most of the patterns from the first 100 sentences in universal dataset\n",
    "    patterns = [\n",
    "    (r'^([0-9]|[aA-zZ])+\\-([0-9]|[aA-zZ])*$','ADJ'), # words such as '10-lap','30-day','York-based'\n",
    "    (r'.*able$', 'ADJ'),                     # words ending with 'able' such as 'questionable'\n",
    "    (r'.*ful$', 'ADJ'),                      # words ending with 'ful' such as 'useful'\n",
    "    (r'.*ous$', 'ADJ'),                      # words ending with 'ous' such as 'Previous'\n",
    "    \n",
    "    (r'.*\\'s$', 'NOUN'),                     # possessive nouns\n",
    "    (r'.*s$', 'NOUN'),                       # plural nouns\n",
    "    (r'^[aA-zZ].*[0-9]+','NOUN'),            # Alpha Numeric such as Door Number, Street Number etc\n",
    "    (r'.*ers$', 'NOUN'),                     # words ending with 'ers' such as 'filters','workers'\n",
    "    (r'.*ment$', 'NOUN'),                    # words ending with 'ment' such as 'reinvestment' \n",
    "    (r'.*town$', 'NOUN'),                    # words ending with 'town' such as 'town','downtown'  \n",
    "    (r'.*ness$', 'NOUN'),                    # words ending with 'ness' such as 'sluggishness' \n",
    "    (r'^[A-Z]+([a-z]{1,2})?\\.?$','NOUN'),    # words such as 'Nov.','Mr.','Inc.'\n",
    "    \n",
    "    (r'[aA-zZ]+(ed|ing|es)$', 'VERB'),       # words ending with 'ed' or 'ing' or 'es'    \n",
    "    (r'.*ly$', 'ADV'),                       # words ending with 'ly'\n",
    "    \n",
    "    (r'^[0-9]+(.[0-9]+)?$', 'NUM'),          # cardinal numbers such as 61, 1956, 9.8, 8.45, 352.7        \n",
    "    (r'^(0|([*|-|$].*))','X'),               # words such as '*', '0', *-1', '*T*-1', '*ICH*-1', '*?*'   \n",
    "    \n",
    "    (r'(The|the|A|a|An|an|That|that|This|this|Those|those|These|these)$', 'DET'), # determinants     \n",
    "    (r'.*', 'NOUN')  \n",
    "    ]\n",
    "    \n",
    "    rule_based_tagger = nltk.RegexpTagger(patterns)\n",
    "\n",
    "    # trigram backed up by the regex tagger\n",
    "    trigram_regex_tagger = nltk.TrigramTagger(train_set, backoff = rule_based_tagger)\n",
    "    return trigram_regex_tagger.tag_sents([[(word)]])    "
   ]
  },
  {
   "cell_type": "code",
   "execution_count": 46,
   "metadata": {},
   "outputs": [],
   "source": [
    "# Modified Viterbi Heuristic- Approach II - Backoff to rule based tagger in case an unknown word is encountered.\n",
    "def Viterbi_approach2(words, train_bag = train_tagged_words):\n",
    "    state = []\n",
    "    T = sorted(list(set([pair[1] for pair in train_bag])))\n",
    "    V = [i[0] for i in train_bag]\n",
    "    \n",
    "    # use the trigram tagger backed up by the rule based tagger for unknown words.\n",
    "    for key, word in enumerate(words):\n",
    "        if word not in V:\n",
    "            unknown_word_tag = trigram_tagger(word)\n",
    "            for sent in unknown_word_tag:\n",
    "                for tup in sent:\n",
    "                    state.append(tup[1])\n",
    "        else:            \n",
    "            p = [] \n",
    "            for tag in T:\n",
    "                if key == 0:\n",
    "                    transition_p = tags_df.loc['.', tag]\n",
    "                else:\n",
    "                    transition_p = tags_df.loc[state[-1], tag]\n",
    "                \n",
    "                # compute emission and state probabilities\n",
    "                emission_p = word_given_tag(words[key], tag)[0]/word_given_tag(words[key], tag)[1]\n",
    "                state_probability = emission_p * transition_p    \n",
    "                p.append(state_probability)\n",
    "            \n",
    "            pmax = max(p)\n",
    "            # getting state for which probability is maximum\n",
    "            state_max = T[p.index(pmax)] \n",
    "            state.append(state_max)\n",
    "    return list(zip(words, state))"
   ]
  },
  {
   "cell_type": "markdown",
   "metadata": {},
   "source": [
    "#### Evaluating tagging accuracy"
   ]
  },
  {
   "cell_type": "code",
   "execution_count": 47,
   "metadata": {},
   "outputs": [
    {
     "name": "stdout",
     "output_type": "stream",
     "text": [
      "Time taken in seconds:  1128.8688714504242\n"
     ]
    },
    {
     "data": {
      "text/plain": [
       "0.9618635738156084"
      ]
     },
     "execution_count": 47,
     "metadata": {},
     "output_type": "execute_result"
    }
   ],
   "source": [
    "# tagging the test sentences. Below code takes around 49 mins to execute\n",
    "start = time.time()\n",
    "viterbi_trigram_tagged_seq = Viterbi_approach2(test_tagged_words)\n",
    "end = time.time()\n",
    "difference = end-start\n",
    "\n",
    "print(\"Time taken in seconds: \", difference)\n",
    "\n",
    "# accuracy\n",
    "viterbi_trigram_word_check = [i for i, j in zip(viterbi_trigram_tagged_seq, test_run_base) if i == j]\n",
    "\n",
    "viterbi_trigram_accuracy = len(viterbi_trigram_word_check)/len(viterbi_trigram_tagged_seq)\n",
    "viterbi_trigram_accuracy"
   ]
  },
  {
   "cell_type": "code",
   "execution_count": 48,
   "metadata": {},
   "outputs": [
    {
     "data": {
      "text/plain": [
       "[(('trade', 'VERB'), ('trade', 'NOUN')),\n",
       " (('Private', 'ADJ'), ('Private', 'NOUN')),\n",
       " (('purchasing', 'NOUN'), ('purchasing', 'VERB')),\n",
       " (('though', 'ADP'), ('though', 'ADV')),\n",
       " (('close', 'NOUN'), ('close', 'ADJ'))]"
      ]
     },
     "execution_count": 48,
     "metadata": {},
     "output_type": "execute_result"
    }
   ],
   "source": [
    "viterbi_trigram_incorrect_tagged_cases = [j for i, j in enumerate(zip(viterbi_trigram_tagged_seq, test_run_base)) if j[0]!=j[1]]\n",
    "viterbi_trigram_incorrect_tagged_cases[:5]"
   ]
  },
  {
   "cell_type": "markdown",
   "metadata": {},
   "source": [
    " __Observations__:\n",
    " \n",
    " Below words have been correctly tagged by Approach II compared to Vanilla viterbi and Modified Approach-I.\n",
    "\n",
    "| Incorrect Tags-Original POS Tagger | Corrected Tags-Modified Approach I | Corrected Tags-Modified Approach II |\n",
    "| :--- | --- | --- |\n",
    "| ('pre-1917', '.') | ('pre-1917', 'X') | ('pre-1917', 'ADJ') |\n",
    "| ('Tokio', '.') | ('Tokio', 'DET') | ('Tokio', 'NOUN') |\n",
    "| ('20.5', '.') | ('20.5', 'NOUN') | ('20.5', 'NUM') |\n",
    "| ('polarized', '.') | ('polarized', 'X') | ('polarized', 'VERB') |\n",
    "| ('154.2', '.') | ('154.2', 'X') | ('154.2', 'NUM') |"
   ]
  },
  {
   "cell_type": "markdown",
   "metadata": {},
   "source": [
    "### Compare the tagging accuracies of the modifications with the vanilla Viterbi algorithm"
   ]
  },
  {
   "cell_type": "markdown",
   "metadata": {},
   "source": [
    "### Let us summarize the tagging accuracies we got on the Validation set\n",
    "| Approach | Accuracy |\n",
    "| :--- | --- |\n",
    "| Vanilla Viterbi algorithm | 91.38% |\n",
    "| Modified Vanilla Viterbi- Approach I(Use transition probability of tags when emission probability is zero) | 93.88% |\n",
    "| Unigram/Lexicon Tagger | 91.17% |\n",
    "| Unigram backed by Rule based Tagger | 93.78% |\n",
    "| Bigram backed by Unigram_Rule_based tagger | 94.12% |\n",
    "| Trigram backed by Bigram tagger | 94.04% |\n",
    "| Viterbi+ Trigram and Rule Based tagger -Approach II | 96.18% |\n"
   ]
  },
  {
   "cell_type": "markdown",
   "metadata": {},
   "source": [
    "### List down cases which were incorrectly tagged by original POS tagger and got corrected by our modifications\n",
    "### Case 1"
   ]
  },
  {
   "cell_type": "code",
   "execution_count": 49,
   "metadata": {},
   "outputs": [
    {
     "name": "stdout",
     "output_type": "stream",
     "text": [
      "[('Android', '.'), ('has', 'VERB'), ('been', 'VERB'), ('the', 'DET'), ('best-selling', 'ADJ'), ('OS', '.'), ('worldwide', '.'), ('on', 'ADP'), ('smartphones', '.'), ('since', 'ADP'), ('2011', '.'), ('and', 'CONJ'), ('on', 'ADP'), ('tablets', 'NOUN'), ('since', 'ADP'), ('2013', '.'), ('.', '.')]\n"
     ]
    }
   ],
   "source": [
    "sentence_test1 = 'Android has been the best-selling OS worldwide on smartphones since 2011 and on tablets since 2013.'\n",
    "words = word_tokenize(sentence_test1)\n",
    "tagged_seq = Viterbi(words)\n",
    "print(tagged_seq)"
   ]
  },
  {
   "cell_type": "code",
   "execution_count": 50,
   "metadata": {},
   "outputs": [
    {
     "name": "stdout",
     "output_type": "stream",
     "text": [
      "[('Android', 'NOUN'), ('has', 'VERB'), ('been', 'VERB'), ('the', 'DET'), ('best-selling', 'ADJ'), ('OS', 'NOUN'), ('worldwide', 'NOUN'), ('on', 'ADP'), ('smartphones', 'DET'), ('since', 'ADP'), ('2011', 'DET'), ('and', 'CONJ'), ('on', 'ADP'), ('tablets', 'NOUN'), ('since', 'ADP'), ('2013', 'DET'), ('.', '.')]\n"
     ]
    }
   ],
   "source": [
    "tagged_seq_modified1 = Viterbi_approach1(words)\n",
    "print(tagged_seq_modified1)"
   ]
  },
  {
   "cell_type": "code",
   "execution_count": 51,
   "metadata": {},
   "outputs": [
    {
     "name": "stdout",
     "output_type": "stream",
     "text": [
      "[('Android', 'NOUN'), ('has', 'VERB'), ('been', 'VERB'), ('the', 'DET'), ('best-selling', 'ADJ'), ('OS', 'NOUN'), ('worldwide', 'NOUN'), ('on', 'ADP'), ('smartphones', 'NOUN'), ('since', 'ADP'), ('2011', 'NUM'), ('and', 'CONJ'), ('on', 'ADP'), ('tablets', 'NOUN'), ('since', 'ADP'), ('2013', 'NUM'), ('.', '.')]\n"
     ]
    }
   ],
   "source": [
    "tagged_seq_modified2 = Viterbi_approach2(words)\n",
    "print(tagged_seq_modified2)"
   ]
  },
  {
   "cell_type": "markdown",
   "metadata": {},
   "source": [
    "__Observations__:\n",
    "\n",
    "| Incorrect Tags-Original POS Tagger | Corrected Tags-Modified Approach I | Corrected Tags-Modified Approach II |\n",
    "| :--- | --- | --- |\n",
    "| ('Android', '.') | ('Android', 'NOUN') | ('Android', 'NOUN') |\n",
    "| ('OS', '.') | ('OS', 'NOUN') | ('OS', 'NOUN') |\n",
    "| ('worldwide', '.') | ('worldwide', 'NOUN') | ('worldwide', 'NOUN') |\n",
    "| ('smartphones', '.') | ('smartphones', 'DET') | ('smartphones', 'NOUN') |\n",
    "| ('2011', '.') | ('2011', 'DET') | ('2011', 'NUM') \n",
    "| ('2013', '.') | ('2013', 'DET') | ('2013', 'NUM') "
   ]
  },
  {
   "cell_type": "markdown",
   "metadata": {},
   "source": [
    "### Case 2"
   ]
  },
  {
   "cell_type": "code",
   "execution_count": 52,
   "metadata": {},
   "outputs": [
    {
     "name": "stdout",
     "output_type": "stream",
     "text": [
      "[('Google', '.'), ('and', 'CONJ'), ('Twitter', '.'), ('made', 'VERB'), ('a', 'DET'), ('deal', 'NOUN'), ('in', 'ADP'), ('2015', '.'), ('that', 'DET'), ('gave', 'VERB'), ('Google', '.'), ('access', 'NOUN'), ('to', 'PRT'), ('Twitter', '.'), (\"'s\", 'VERB'), ('firehose', '.'), ('.', '.')]\n"
     ]
    }
   ],
   "source": [
    "sentence_test2 = \"Google and Twitter made a deal in 2015 that gave Google access to Twitter's firehose.\"\n",
    "words = word_tokenize(sentence_test2)\n",
    "tagged_seq = Viterbi(words)\n",
    "print(tagged_seq)"
   ]
  },
  {
   "cell_type": "code",
   "execution_count": 53,
   "metadata": {},
   "outputs": [
    {
     "name": "stdout",
     "output_type": "stream",
     "text": [
      "[('Google', 'NOUN'), ('and', 'CONJ'), ('Twitter', 'NOUN'), ('made', 'VERB'), ('a', 'DET'), ('deal', 'NOUN'), ('in', 'ADP'), ('2015', 'DET'), ('that', 'ADP'), ('gave', 'VERB'), ('Google', 'X'), ('access', 'NOUN'), ('to', 'PRT'), ('Twitter', 'VERB'), (\"'s\", 'PRT'), ('firehose', 'VERB'), ('.', '.')]\n"
     ]
    }
   ],
   "source": [
    "tagged_seq_modified1 = Viterbi_approach1(words)\n",
    "print(tagged_seq_modified1)"
   ]
  },
  {
   "cell_type": "code",
   "execution_count": 54,
   "metadata": {},
   "outputs": [
    {
     "name": "stdout",
     "output_type": "stream",
     "text": [
      "[('Google', 'NOUN'), ('and', 'CONJ'), ('Twitter', 'NOUN'), ('made', 'VERB'), ('a', 'DET'), ('deal', 'NOUN'), ('in', 'ADP'), ('2015', 'NUM'), ('that', 'ADP'), ('gave', 'VERB'), ('Google', 'NOUN'), ('access', 'NOUN'), ('to', 'PRT'), ('Twitter', 'NOUN'), (\"'s\", 'PRT'), ('firehose', 'NOUN'), ('.', '.')]\n"
     ]
    }
   ],
   "source": [
    "tagged_seq_modified2 = Viterbi_approach2(words)\n",
    "print(tagged_seq_modified2)"
   ]
  },
  {
   "cell_type": "markdown",
   "metadata": {},
   "source": [
    "__Observations__:\n",
    "\n",
    "| Incorrect Tags-Original POS Tagger | Corrected Tags-Modified Approach I | Corrected Tags-Modified Approach II |\n",
    "| :--- | --- | --- |\n",
    "| ('Google', '.') | ('Google', 'NOUN') | ('Google', 'NOUN') |\n",
    "| ('Twitter', '.') | ('Twitter', 'NOUN') | ('Twitter', 'NOUN') |\n",
    "| ('2015', '.') | ('2015', 'DET') | ('2015', 'NUM') |\n",
    "| ('Google', '.') | ('Google', 'X') | ('Google', 'NOUN') |\n",
    "| ('Twitter', '.') | ('Twitter', 'VERB') | ('Twitter', 'NOUN') |\n",
    "| ('firehose', '.') | ('firehose', 'VERB') | ('firehose', 'NOUN') |"
   ]
  },
  {
   "cell_type": "markdown",
   "metadata": {},
   "source": [
    "### Case 3"
   ]
  },
  {
   "cell_type": "code",
   "execution_count": 55,
   "metadata": {},
   "outputs": [
    {
     "name": "stdout",
     "output_type": "stream",
     "text": [
      "[('The', 'DET'), ('2018', '.'), ('FIFA', '.'), ('World', 'NOUN'), ('Cup', '.'), ('is', 'VERB'), ('the', 'DET'), ('21st', '.'), ('FIFA', '.'), ('World', 'NOUN'), ('Cup', '.'), (',', '.'), ('an', 'DET'), ('international', 'ADJ'), ('football', 'NOUN'), ('tournament', '.'), ('contested', '.'), ('once', 'ADV'), ('every', 'DET'), ('four', 'NUM'), ('years', 'NOUN'), ('.', '.')]\n"
     ]
    }
   ],
   "source": [
    "sentence_test3 = \"The 2018 FIFA World Cup is the 21st FIFA World Cup, an international football tournament contested once every four years.\"\n",
    "words = word_tokenize(sentence_test3)\n",
    "tagged_seq = Viterbi(words)\n",
    "print(tagged_seq)"
   ]
  },
  {
   "cell_type": "code",
   "execution_count": 56,
   "metadata": {},
   "outputs": [
    {
     "name": "stdout",
     "output_type": "stream",
     "text": [
      "[('The', 'DET'), ('2018', 'NOUN'), ('FIFA', 'NOUN'), ('World', 'NOUN'), ('Cup', 'NOUN'), ('is', 'VERB'), ('the', 'DET'), ('21st', 'NOUN'), ('FIFA', 'NOUN'), ('World', 'NOUN'), ('Cup', 'NOUN'), (',', '.'), ('an', 'DET'), ('international', 'ADJ'), ('football', 'NOUN'), ('tournament', 'NOUN'), ('contested', 'NOUN'), ('once', 'ADV'), ('every', 'DET'), ('four', 'NUM'), ('years', 'NOUN'), ('.', '.')]\n"
     ]
    }
   ],
   "source": [
    "tagged_seq_modified1 = Viterbi_approach1(words)\n",
    "print(tagged_seq_modified1)"
   ]
  },
  {
   "cell_type": "code",
   "execution_count": 57,
   "metadata": {},
   "outputs": [
    {
     "name": "stdout",
     "output_type": "stream",
     "text": [
      "[('The', 'DET'), ('2018', 'NUM'), ('FIFA', 'NOUN'), ('World', 'NOUN'), ('Cup', 'NOUN'), ('is', 'VERB'), ('the', 'DET'), ('21st', 'NOUN'), ('FIFA', 'NOUN'), ('World', 'NOUN'), ('Cup', 'NOUN'), (',', '.'), ('an', 'DET'), ('international', 'ADJ'), ('football', 'NOUN'), ('tournament', 'NOUN'), ('contested', 'VERB'), ('once', 'ADV'), ('every', 'DET'), ('four', 'NUM'), ('years', 'NOUN'), ('.', '.')]\n"
     ]
    }
   ],
   "source": [
    "tagged_seq_modified2 = Viterbi_approach2(words)\n",
    "print(tagged_seq_modified2)"
   ]
  },
  {
   "cell_type": "markdown",
   "metadata": {},
   "source": [
    "__Observations__:\n",
    "\n",
    "| Incorrect Tags-Original POS Tagger | Corrected Tags-Modified Approach I | Corrected Tags-Modified Approach II |\n",
    "| :--- | --- | --- |\n",
    "| ('2018', '.') | ('2018', 'NOUN') | ('2018', 'NUM') |\n",
    "| ('FIFA', '.') | ('FIFA', 'NOUN') | ('FIFA', 'NOUN') |\n",
    "| ('Cup', '.') | ('Cup', 'NOUN') | ('Cup', 'NOUN') |\n",
    "| ('contested', '.') | ('contested', 'NOUN') | ('contested', 'VERB') |\n",
    "\n",
    "\n",
    "We can see that in all the above 3 cases, unknown words are being tagged as '.'(punctuation) because it is the first tag in the list of all tags.<br> \n",
    "\n",
    "Also, the first modified approach was able to correctly tag only few of the incorrect words while the second modified approach was able to perform much better than the 1st approach."
   ]
  }
 ],
 "metadata": {
  "kernelspec": {
   "display_name": "Python 3",
   "language": "python",
   "name": "python3"
  },
  "language_info": {
   "codemirror_mode": {
    "name": "ipython",
    "version": 3
   },
   "file_extension": ".py",
   "mimetype": "text/x-python",
   "name": "python",
   "nbconvert_exporter": "python",
   "pygments_lexer": "ipython3",
   "version": "3.8.5"
  }
 },
 "nbformat": 4,
 "nbformat_minor": 4
}
